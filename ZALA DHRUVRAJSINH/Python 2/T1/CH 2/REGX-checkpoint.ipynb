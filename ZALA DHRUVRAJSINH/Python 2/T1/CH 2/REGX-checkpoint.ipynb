{
 "cells": [
  {
   "cell_type": "code",
   "execution_count": 1,
   "metadata": {},
   "outputs": [
    {
     "data": {
      "text/plain": [
       "'\\n\\\\A => Starts With\\n\\\\Z => Ends With\\n\\x08 => Starting or Ending of words of string    \\x08abc:- checks starting with abc and abc\\x08:- checks ending with abc\\n\\\\B => Not Starting or Ending of words of string\\n\\\\d => Digit\\n\\\\D => Not a digit\\n\\\\s => White Space(Space,Tab,New Line)\\n\\\\S => Not a White Space\\n\\\\w => Characters,Digits,Underscore\\n\\\\W => No || || || || || ||\\n\\n'"
      ]
     },
     "execution_count": 1,
     "metadata": {},
     "output_type": "execute_result"
    }
   ],
   "source": [
    "# Meta Characters:- \n",
    "'''\n",
    "\n",
    "[] ---> [A-Za-z] String containing only a to z\n",
    "/ ---> Escape character.\n",
    ". ---> Any character\n",
    "^ ---> Starts With\n",
    "$ ---> Ends With\n",
    "* ---> 0 or more occurance\n",
    "+ ---> 1 or more occurance\n",
    "? ---> 0 or 1 occurance\n",
    "{} ---> specific number of occurances\n",
    "\n",
    "'''\n",
    "\n",
    "# Special Sequences:- \n",
    "'''\n",
    "\\A => Starts With\n",
    "\\Z => Ends With\n",
    "\\b => Starting or Ending of words of string    \\babc:- checks starting with abc and abc\\b:- checks ending with abc\n",
    "\\B => Not Starting or Ending of words of string\n",
    "\\d => Digit\n",
    "\\D => Not a digit\n",
    "\\s => White Space(Space,Tab,New Line)\n",
    "\\S => Not a White Space\n",
    "\\w => Characters,Digits,Underscore\n",
    "\\W => No || || || || || ||\n",
    "\n",
    "'''"
   ]
  },
  {
   "cell_type": "code",
   "execution_count": 47,
   "metadata": {},
   "outputs": [
    {
     "name": "stdout",
     "output_type": "stream",
     "text": [
      "['Hello']\n",
      "['Hello', 'Hello', 'Hello']\n"
     ]
    }
   ],
   "source": [
    "import re\n",
    "s=\"Hello54 Hello36 PlanetH Hello\"\n",
    "print(re.findall(r\"^Hello\",s))\n",
    "print(re.findall(r\"\\bHello\",s))\n"
   ]
  },
  {
   "cell_type": "code",
   "execution_count": 48,
   "metadata": {},
   "outputs": [
    {
     "name": "stdout",
     "output_type": "stream",
     "text": [
      "['AB', 'DE', 'SF', 'GK']\n",
      "AB\n"
     ]
    }
   ],
   "source": [
    "s=\"ABC DESF GK\"\n",
    "print(re.findall(r\"\\w{2}\",s))\n",
    "print(re.search(r\"\\w{2}\",s).group())"
   ]
  },
  {
   "cell_type": "code",
   "execution_count": 67,
   "metadata": {},
   "outputs": [
    {
     "name": "stdout",
     "output_type": "stream",
     "text": [
      "['', 'A', 'B', 'CD']\n",
      "['', 'A', '', 'B', '', 'CD']\n"
     ]
    }
   ],
   "source": [
    "import re\n",
    "s=\".A! B. CD\"\n",
    "print(re.split(r\"\\W+\",s)) #print(re.split(r\"\\W+\",s,maxsplit=1)) => ['A', 'B. CD']\n",
    "print(re.split(r\"\\W\",s))"
   ]
  },
  {
   "cell_type": "code",
   "execution_count": 68,
   "metadata": {},
   "outputs": [
    {
     "name": "stdout",
     "output_type": "stream",
     "text": [
      "21247391\n"
     ]
    }
   ],
   "source": [
    "s=\"(212)-47-391\"\n",
    "print(re.sub(r\"\\D\",\"\",s))"
   ]
  },
  {
   "cell_type": "code",
   "execution_count": 102,
   "metadata": {},
   "outputs": [
    {
     "name": "stdout",
     "output_type": "stream",
     "text": [
      "Enter The String:- I have  meeting on 4-12-2024 at 10:09AM and an appointment on 11/4/2025 at 5:30PM\n",
      "['4-12-2024', '11/4/2025']\n",
      "['10:09AM', '5:30PM']\n"
     ]
    }
   ],
   "source": [
    "'''Write a program using regx to fetch dates from given string & 2.)to fetch time from the given string'''\n",
    "'''Test case:- I have  meeting on 4-12-2024 at 10:09AM and an appointment on 11/4/2025 at 5:30PM \n",
    "output:- ['4-12-2024','11/4/2025'] [10:09AM,5:30PM]'''\n",
    "\n",
    "s=input(\"Enter The String:- \")\n",
    "print(re.findall(r\"\\d{1,2}[-/]\\d{1,2}[-/]\\d{4}\",s)) # or print(re.findall(r\"\\d{1,2}.\\d{1,2}.\\d{4}\",s))\n",
    "print(re.findall(r\"\\d{1,2}:\\d{1,2}[AP]M\",s))"
   ]
  },
  {
   "cell_type": "code",
   "execution_count": 114,
   "metadata": {},
   "outputs": [
    {
     "name": "stdout",
     "output_type": "stream",
     "text": [
      "Enter The Mail:- zaladhruvrajsinh024@gmail.com\n",
      "['zaladhruvrajsinh024@gmail.com']\n"
     ]
    }
   ],
   "source": [
    "'''wap using regx to check email address jhonedoe123@gmail.com'''\n",
    "s=input(\"Enter The Mail:- \")\n",
    "print(re.findall(r\"\\w+@\\w+[.][a-z]{2,3}\",s))"
   ]
  }
 ],
 "metadata": {
  "kernelspec": {
   "display_name": "Python 3",
   "language": "python",
   "name": "python3"
  },
  "language_info": {
   "codemirror_mode": {
    "name": "ipython",
    "version": 3
   },
   "file_extension": ".py",
   "mimetype": "text/x-python",
   "name": "python",
   "nbconvert_exporter": "python",
   "pygments_lexer": "ipython3",
   "version": "3.8.5"
  }
 },
 "nbformat": 4,
 "nbformat_minor": 4
}
