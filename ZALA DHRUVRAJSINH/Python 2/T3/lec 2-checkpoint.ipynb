{
 "cells": [
  {
   "cell_type": "code",
   "execution_count": 3,
   "metadata": {},
   "outputs": [
    {
     "name": "stdout",
     "output_type": "stream",
     "text": [
      "Overwriting udp_server.py\n"
     ]
    }
   ],
   "source": [
    "%%writefile udp_server.py\n",
    "import socket\n",
    "\n",
    "# 30-05-2025\n",
    "\n",
    "host = socket.gethostname()\n",
    "port = 8000\n",
    "\n",
    "ser= socket.socket(type=socket.SOCK_DGRAM)\n",
    "ser.bind((host,port))\n",
    "\n",
    "while True:\n",
    "    print(\"Waiting for message ....\")\n",
    "    data,addr=ser.recvfrom(1024)\n",
    "    print(\"Received \",data.decode,' form ',addr)\n",
    "    msg=input(\"Enter msg : \")\n",
    "    ser.sendto(msg.encode(),addr)\n",
    "ser.close()"
   ]
  },
  {
   "cell_type": "code",
   "execution_count": 5,
   "metadata": {},
   "outputs": [
    {
     "name": "stdout",
     "output_type": "stream",
     "text": [
      "Overwriting udp_client.py\n"
     ]
    }
   ],
   "source": [
    "%%writefile udp_client.py\n",
    "import socket\n",
    "\n",
    "host = socket.gethostname()\n",
    "port = 8000\n",
    "\n",
    "client = socket.socket(type=socket.SOCK_DGRAM)\n",
    "\n",
    "\n",
    "while True:\n",
    "    data = input(\"Enter Data to send : \")\n",
    "    if not data:\n",
    "        break\n",
    "    client.sendto(data.encode(),(host,port))\n",
    "    print(\"Ready to receive data \")\n",
    "    data, addr=client.recvfrom(1024)\n",
    "    if not data :\n",
    "        break\n",
    "    print(\"Received : \",data.decode())\n",
    "client.close()"
   ]
  },
  {
   "cell_type": "code",
   "execution_count": 10,
   "metadata": {},
   "outputs": [
    {
     "name": "stdout",
     "output_type": "stream",
     "text": [
      "Overwriting server_http.py\n"
     ]
    }
   ],
   "source": [
    "%%writefile server_http.py \n",
    "import socket\n",
    "\n",
    "def createserver():\n",
    "    c = socket.socket()\n",
    "    c.bind(('localhost',9000))\n",
    "    c.listen()\n",
    "    while True:\n",
    "        conn,addr=c.accept()\n",
    "        r=conn.recv(5000).decode()\n",
    "        \n",
    "        data=\"Http/1.1 200 Ok\\n\"\n",
    "        data+=\"Content-Type: text/html\\n\\n\"\n",
    "        data+=\"<html><body>Hello World</body></html> \\n\\n\"\n",
    "        conn.send(data.encode())\n",
    "        \n",
    "    c.close()\n",
    "print(\"Access http://lcoalhost:9000\")"
   ]
  },
  {
   "cell_type": "code",
   "execution_count": 11,
   "metadata": {},
   "outputs": [
    {
     "name": "stdout",
     "output_type": "stream",
     "text": [
      "Overwriting client_http.py\n"
     ]
    }
   ],
   "source": [
    "%%writefile client_http.py\n",
    "from socket import *\n",
    "def createClient():\n",
    "    clientsocket = socket(AF_INET, SOCK_STREAM)\n",
    "    clientsocket.connect(('localhost', 9000))\n",
    "    request = \"GET / HTTP/1.1\\r\\nHost: localhost\\r\\n\\r\\n\"\n",
    "    clientsocket.send(request.encode())\n",
    "    response = clientsocket.recv(1024).decode()\n",
    "    print('Received response:')\n",
    "    print(response)\n",
    "    clientsocket.close()\n",
    "createClient()"
   ]
  },
  {
   "cell_type": "code",
   "execution_count": null,
   "metadata": {},
   "outputs": [],
   "source": []
  }
 ],
 "metadata": {
  "kernelspec": {
   "display_name": "Python 3",
   "language": "python",
   "name": "python3"
  },
  "language_info": {
   "codemirror_mode": {
    "name": "ipython",
    "version": 3
   },
   "file_extension": ".py",
   "mimetype": "text/x-python",
   "name": "python",
   "nbconvert_exporter": "python",
   "pygments_lexer": "ipython3",
   "version": "3.8.5"
  }
 },
 "nbformat": 4,
 "nbformat_minor": 4
}
