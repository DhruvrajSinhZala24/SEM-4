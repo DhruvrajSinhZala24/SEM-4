{
 "cells": [
  {
   "cell_type": "code",
   "execution_count": 1,
   "metadata": {},
   "outputs": [
    {
     "name": "stdout",
     "output_type": "stream",
     "text": [
      "Overwriting tcp_server.py\n"
     ]
    }
   ],
   "source": [
    "%%writefile tcp_server.py\n",
    "import socket \n",
    "host= socket.gethostname()\n",
    "port = 5000\n",
    "\n",
    "server = socket.socket(type=socket.SOCK_STREAM)\n",
    "server.bind((host,port))\n",
    "server.listen()\n",
    "\n",
    "conn, addr = server.accept()\n",
    "print(\"connected from: \",addr )\n",
    "\n",
    "filename=conn.recv(1024).decode()\n",
    "\n",
    "with open(filename,'wb') as f:\n",
    "    while True:\n",
    "        data=conn.recv(1024)\n",
    "        if not data:\n",
    "            break\n",
    "        f.write(data)\n",
    "print(f\"File {filename} received sucessfuly \")\n",
    "conn.close()"
   ]
  },
  {
   "cell_type": "code",
   "execution_count": null,
   "metadata": {},
   "outputs": [],
   "source": [
    "%%writefile tcp_cilent.py \n",
    "import socket\n",
    "# host= socket.gethostname()\n",
    "host = \"192.168.107.237\"\n",
    "port = 5000\n",
    "filename=\"tcp_server.py\"\n",
    "client = socket.socket()\n",
    "client.connect((host,port))\n",
    "client.send(filename.encode())\n",
    "with open(filename,'rb') as f: \n",
    "    data=f.read(1024)\n",
    "    while data:\n",
    "        client.send(data)\n",
    "        data = f.read(1024)\n",
    "        \n",
    "print(f\"File {filename} send sucessfully\")\n",
    "#No need to run it"
   ]
  }
 ],
 "metadata": {
  "kernelspec": {
   "display_name": "Python 3",
   "language": "python",
   "name": "python3"
  },
  "language_info": {
   "codemirror_mode": {
    "name": "ipython",
    "version": 3
   },
   "file_extension": ".py",
   "mimetype": "text/x-python",
   "name": "python",
   "nbconvert_exporter": "python",
   "pygments_lexer": "ipython3",
   "version": "3.8.5"
  }
 },
 "nbformat": 4,
 "nbformat_minor": 4
}
