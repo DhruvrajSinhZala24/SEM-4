{
 "cells": [
  {
   "cell_type": "code",
   "execution_count": 6,
   "metadata": {},
   "outputs": [
    {
     "name": "stdout",
     "output_type": "stream",
     "text": [
      "Overwriting tcp_server.py\n"
     ]
    }
   ],
   "source": [
    "%%writefile tcp_server.py\n",
    "import socket\n",
    "host=socket.gethostname()\n",
    "port=5000\n",
    "\n",
    "server=socket.socket(type=socket.SOCK_STREAM)\n",
    "server.bind((host,port))\n",
    "server.listen()\n",
    "\n",
    "conn,addr=server.accept()\n",
    "print(\"Connected from:\",addr)\n",
    "\n",
    "while True:\n",
    "    data=conn.recv(1024).decode()\n",
    "    if not data:\n",
    "        break\n",
    "    print(\"From connected user:\",data)\n",
    "    data=input(\"Enter Response: \")\n",
    "    conn.send(data.encode())\n",
    "conn.close()"
   ]
  },
  {
   "cell_type": "code",
   "execution_count": 4,
   "metadata": {},
   "outputs": [
    {
     "name": "stdout",
     "output_type": "stream",
     "text": [
      "Overwriting tcp_client.py\n"
     ]
    }
   ],
   "source": [
    "%%writefile tcp_client.py\n",
    "import socket\n",
    "host=\"192.168.107.214\"\n",
    "port=5000\n",
    "\n",
    "client=socket.socket()\n",
    "client.connect((host,port))\n",
    "\n",
    "msg=input(\"Enter Message to send: \")\n",
    "\n",
    "while msg!='bye':\n",
    "    client.send(msg.encode())\n",
    "    data=client.recv(1024).decode()\n",
    "    \n",
    "    print(\"Received from server:\",data)\n",
    "    \n",
    "    msg=input(\"Enter message to send: \")\n",
    "client.close()"
   ]
  }
 ],
 "metadata": {
  "kernelspec": {
   "display_name": "Python 3",
   "language": "python",
   "name": "python3"
  },
  "language_info": {
   "codemirror_mode": {
    "name": "ipython",
    "version": 3
   },
   "file_extension": ".py",
   "mimetype": "text/x-python",
   "name": "python",
   "nbconvert_exporter": "python",
   "pygments_lexer": "ipython3",
   "version": "3.8.5"
  }
 },
 "nbformat": 4,
 "nbformat_minor": 4
}
